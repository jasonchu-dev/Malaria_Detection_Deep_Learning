{
 "cells": [
  {
   "attachments": {},
   "cell_type": "markdown",
   "id": "65353fbc",
   "metadata": {},
   "source": [
    "Import libraries"
   ]
  },
  {
   "cell_type": "code",
   "execution_count": null,
   "id": "3a262d28",
   "metadata": {},
   "outputs": [],
   "source": [
    "import time\n",
    "import os\n",
    "import cv2 as cv\n",
    "import numpy as np\n",
    "from tensorflow.keras.applications.resnet50 import preprocess_input\n",
    "from tensorflow.keras.preprocessing.image import ImageDataGenerator\n",
    "from tensorflow.keras.layers import Dense, Conv2D, MaxPooling2D, Flatten, Activation\n",
    "from tensorflow.keras.models import Sequential\n",
    "from tensorflow.keras.callbacks import TensorBoard"
   ]
  },
  {
   "attachments": {},
   "cell_type": "markdown",
   "id": "fecc399d",
   "metadata": {},
   "source": [
    "TensorBoard setup for debugging"
   ]
  },
  {
   "cell_type": "code",
   "execution_count": 116,
   "id": "416f4f39",
   "metadata": {},
   "outputs": [],
   "source": [
    "NAME = \"{}\".format(int(time.time()))\n",
    "tensorboard = TensorBoard(log_dir='logs/{}'.format(NAME))\n",
    "# in cmd type tensorboard --logdir=logs/"
   ]
  },
  {
   "attachments": {},
   "cell_type": "markdown",
   "id": "7b515288",
   "metadata": {},
   "source": [
    "Grab dataset and prep for feeding to model"
   ]
  },
  {
   "cell_type": "code",
   "execution_count": 117,
   "id": "eb1497bf-9432-47a7-bb6e-21856586e7b4",
   "metadata": {},
   "outputs": [
    {
     "name": "stdout",
     "output_type": "stream",
     "text": [
      "Found 416 images belonging to 2 classes.\n",
      "Found 134 images belonging to 2 classes.\n"
     ]
    }
   ],
   "source": [
    "training_datagen = ImageDataGenerator(rescale=1./255)\n",
    "test_datagen = ImageDataGenerator(rescale=1./255)\n",
    "\n",
    "training_set = training_datagen.flow_from_directory('Dataset/Train', target_size=(225, 225), batch_size=32, class_mode='categorical')\n",
    "test_set = training_datagen.flow_from_directory('Dataset/Test', target_size=(225, 225), batch_size=32, class_mode='categorical')"
   ]
  },
  {
   "attachments": {},
   "cell_type": "markdown",
   "id": "34943803",
   "metadata": {},
   "source": [
    "Model architecture, build, and train"
   ]
  },
  {
   "cell_type": "code",
   "execution_count": 118,
   "id": "9a285923-a521-4711-943b-c00982520aff",
   "metadata": {},
   "outputs": [
    {
     "name": "stdout",
     "output_type": "stream",
     "text": [
      "Epoch 1/15\n",
      "13/13 [==============================] - 2s 97ms/step - loss: 0.7085 - accuracy: 0.4952 - val_loss: 0.6780 - val_accuracy: 0.6791\n",
      "Epoch 2/15\n",
      "13/13 [==============================] - 1s 84ms/step - loss: 0.6918 - accuracy: 0.5288 - val_loss: 0.6675 - val_accuracy: 0.6791\n",
      "Epoch 3/15\n",
      "13/13 [==============================] - 1s 91ms/step - loss: 0.6787 - accuracy: 0.5505 - val_loss: 0.6484 - val_accuracy: 0.6642\n",
      "Epoch 4/15\n",
      "13/13 [==============================] - 1s 103ms/step - loss: 0.5506 - accuracy: 0.7260 - val_loss: 0.4564 - val_accuracy: 0.7612\n",
      "Epoch 5/15\n",
      "13/13 [==============================] - 1s 92ms/step - loss: 0.3690 - accuracy: 0.8534 - val_loss: 0.4337 - val_accuracy: 0.7612\n",
      "Epoch 6/15\n",
      "13/13 [==============================] - 1s 89ms/step - loss: 0.3788 - accuracy: 0.8317 - val_loss: 0.6367 - val_accuracy: 0.6940\n",
      "Epoch 7/15\n",
      "13/13 [==============================] - 1s 87ms/step - loss: 0.3197 - accuracy: 0.8558 - val_loss: 0.3664 - val_accuracy: 0.7985\n",
      "Epoch 8/15\n",
      "13/13 [==============================] - 1s 85ms/step - loss: 0.1760 - accuracy: 0.9447 - val_loss: 0.5009 - val_accuracy: 0.8209\n",
      "Epoch 9/15\n",
      "13/13 [==============================] - 1s 77ms/step - loss: 0.1367 - accuracy: 0.9591 - val_loss: 0.2685 - val_accuracy: 0.8955\n",
      "Epoch 10/15\n",
      "13/13 [==============================] - 1s 76ms/step - loss: 0.0896 - accuracy: 0.9784 - val_loss: 0.1445 - val_accuracy: 0.9478\n",
      "Epoch 11/15\n",
      "13/13 [==============================] - 1s 79ms/step - loss: 0.0589 - accuracy: 0.9880 - val_loss: 0.1518 - val_accuracy: 0.9552\n",
      "Epoch 12/15\n",
      "13/13 [==============================] - 1s 78ms/step - loss: 0.0389 - accuracy: 0.9904 - val_loss: 0.1598 - val_accuracy: 0.9478\n",
      "Epoch 13/15\n",
      "13/13 [==============================] - 1s 82ms/step - loss: 0.0634 - accuracy: 0.9808 - val_loss: 0.3180 - val_accuracy: 0.8806\n",
      "Epoch 14/15\n",
      "13/13 [==============================] - 1s 85ms/step - loss: 0.0768 - accuracy: 0.9856 - val_loss: 0.2779 - val_accuracy: 0.9254\n",
      "Epoch 15/15\n",
      "13/13 [==============================] - 1s 97ms/step - loss: 0.2040 - accuracy: 0.9519 - val_loss: 0.1816 - val_accuracy: 0.9403\n"
     ]
    },
    {
     "data": {
      "text/plain": [
       "<keras.callbacks.History at 0x1b0994965e0>"
      ]
     },
     "execution_count": 118,
     "metadata": {},
     "output_type": "execute_result"
    }
   ],
   "source": [
    "model = Sequential()\n",
    "\n",
    "model.add(Conv2D(16, (3, 3), input_shape=(225, 225, 3), activation='relu', padding='same'))\n",
    "model.add(MaxPooling2D(pool_size=(2, 2)))\n",
    "\n",
    "model.add(Conv2D(32, (3, 3), padding='same', activation='relu'))\n",
    "model.add(MaxPooling2D(pool_size=(2, 2)))\n",
    "\n",
    "model.add(Conv2D(64, (3, 3), padding='same', activation='relu'))\n",
    "model.add(MaxPooling2D(pool_size=(2, 2)))\n",
    "\n",
    "model.add(Conv2D(128, (3, 3), padding='same', activation='relu'))\n",
    "model.add(MaxPooling2D(pool_size=(2, 2)))\n",
    "\n",
    "model.add(Conv2D(256, (3, 3), padding='same', activation='relu'))\n",
    "model.add(MaxPooling2D(pool_size=(2, 2)))\n",
    "\n",
    "# model.add(Conv2D(512, (3, 3), padding='same', activation='relu'))\n",
    "# model.add(MaxPooling2D(pool_size=(2, 2)))\n",
    "\n",
    "# model.add(Conv2D(164, (3, 3), padding='same', activation='relu'))\n",
    "# model.add(MaxPooling2D(pool_size=(2, 2)))\n",
    "\n",
    "model.add(Conv2D(328, (3, 3), padding='same', activation='relu'))\n",
    "model.add(MaxPooling2D(pool_size=(2, 2)))\n",
    "\n",
    "model.add(Flatten())\n",
    "model.add(Dense(500, activation='relu'))\n",
    "model.add(Dense(2, activation='softmax'))\n",
    "\n",
    "# build and train\n",
    "model.compile(loss='categorical_crossentropy', optimizer='adam', metrics=['accuracy'])\n",
    "model.fit(training_set, validation_data=test_set, epochs=15, steps_per_epoch=len(training_set), validation_steps=len(test_set), callbacks=[tensorboard])"
   ]
  },
  {
   "attachments": {},
   "cell_type": "markdown",
   "id": "20ba08dd",
   "metadata": {},
   "source": [
    "Summarize model"
   ]
  },
  {
   "cell_type": "code",
   "execution_count": 119,
   "id": "155b3eb4-5ead-411d-a94f-42db99c4cef1",
   "metadata": {},
   "outputs": [
    {
     "name": "stdout",
     "output_type": "stream",
     "text": [
      "Model: \"sequential_10\"\n",
      "_________________________________________________________________\n",
      " Layer (type)                Output Shape              Param #   \n",
      "=================================================================\n",
      " conv2d_55 (Conv2D)          (None, 225, 225, 16)      448       \n",
      "                                                                 \n",
      " max_pooling2d_55 (MaxPoolin  (None, 112, 112, 16)     0         \n",
      " g2D)                                                            \n",
      "                                                                 \n",
      " conv2d_56 (Conv2D)          (None, 112, 112, 32)      4640      \n",
      "                                                                 \n",
      " max_pooling2d_56 (MaxPoolin  (None, 56, 56, 32)       0         \n",
      " g2D)                                                            \n",
      "                                                                 \n",
      " conv2d_57 (Conv2D)          (None, 56, 56, 64)        18496     \n",
      "                                                                 \n",
      " max_pooling2d_57 (MaxPoolin  (None, 28, 28, 64)       0         \n",
      " g2D)                                                            \n",
      "                                                                 \n",
      " conv2d_58 (Conv2D)          (None, 28, 28, 128)       73856     \n",
      "                                                                 \n",
      " max_pooling2d_58 (MaxPoolin  (None, 14, 14, 128)      0         \n",
      " g2D)                                                            \n",
      "                                                                 \n",
      " conv2d_59 (Conv2D)          (None, 14, 14, 256)       295168    \n",
      "                                                                 \n",
      " max_pooling2d_59 (MaxPoolin  (None, 7, 7, 256)        0         \n",
      " g2D)                                                            \n",
      "                                                                 \n",
      " conv2d_60 (Conv2D)          (None, 7, 7, 328)         756040    \n",
      "                                                                 \n",
      " max_pooling2d_60 (MaxPoolin  (None, 3, 3, 328)        0         \n",
      " g2D)                                                            \n",
      "                                                                 \n",
      " flatten_10 (Flatten)        (None, 2952)              0         \n",
      "                                                                 \n",
      " dense_20 (Dense)            (None, 500)               1476500   \n",
      "                                                                 \n",
      " dense_21 (Dense)            (None, 2)                 1002      \n",
      "                                                                 \n",
      "=================================================================\n",
      "Total params: 2,626,150\n",
      "Trainable params: 2,626,150\n",
      "Non-trainable params: 0\n",
      "_________________________________________________________________\n"
     ]
    }
   ],
   "source": [
    "model.summary()"
   ]
  },
  {
   "attachments": {},
   "cell_type": "markdown",
   "id": "0d8aa3db",
   "metadata": {},
   "source": [
    "Apply model"
   ]
  },
  {
   "cell_type": "code",
   "execution_count": 120,
   "id": "bf1dbff8-2610-4bf9-a2c0-b237470fc732",
   "metadata": {},
   "outputs": [
    {
     "name": "stdout",
     "output_type": "stream",
     "text": [
      "0 infected 1.0\n",
      "1 infected 1.0\n",
      "2 infected 1.0\n",
      "3 infected 1.0\n",
      "4 infected 1.0\n",
      "5 infected 1.0\n",
      "6 infected 1.0\n",
      "7 infected 1.0\n",
      "8 infected 0.9999819\n",
      "9 uninfected 0.7822075\n",
      "10 infected 1.0\n",
      "11 infected 1.0\n",
      "12 infected 0.9941215\n",
      "13 uninfected 0.55659646\n",
      "14 infected 1.0\n",
      "15 infected 0.9997938\n",
      "16 infected 0.77412593\n",
      "17 infected 0.9999999\n",
      "18 infected 1.0\n",
      "19 infected 1.0\n",
      "20 infected 1.0\n",
      "21 infected 1.0\n",
      "22 infected 0.95096016\n",
      "23 infected 1.0\n",
      "24 infected 1.0\n",
      "25 infected 1.0\n",
      "26 infected 0.9999999\n",
      "27 infected 1.0\n",
      "28 infected 1.0\n",
      "29 infected 1.0\n",
      "30 infected 1.0\n",
      "31 infected 1.0\n",
      "32 infected 1.0\n",
      "33 infected 0.9939276\n",
      "34 infected 0.9999341\n",
      "35 infected 0.63415694\n",
      "36 infected 0.9971413\n",
      "37 infected 0.9630891\n",
      "38 infected 0.7409377\n",
      "39 infected 0.99999976\n",
      "40 infected 0.99999666\n",
      "41 infected 1.0\n",
      "42 infected 1.0\n",
      "43 infected 1.0\n",
      "44 infected 1.0\n",
      "45 infected 1.0\n",
      "46 infected 0.8765917\n",
      "47 infected 1.0\n",
      "48 infected 1.0\n",
      "49 infected 1.0\n",
      "50 infected 1.0\n",
      "51 infected 0.84301126\n",
      "52 infected 1.0\n",
      "53 infected 1.0\n",
      "54 infected 0.99999964\n",
      "55 infected 1.0\n",
      "56 infected 1.0\n",
      "57 infected 1.0\n",
      "58 infected 1.0\n",
      "59 infected 1.0\n",
      "60 infected 1.0\n",
      "61 infected 1.0\n",
      "62 infected 1.0\n",
      "63 infected 0.999998\n",
      "64 infected 1.0\n",
      "65 infected 1.0\n",
      "66 infected 0.99986565\n",
      "67 infected 1.0\n",
      "68 infected 1.0\n",
      "69 infected 1.0\n",
      "70 infected 1.0\n",
      "71 infected 1.0\n",
      "72 infected 1.0\n",
      "73 infected 1.0\n",
      "74 infected 1.0\n",
      "75 infected 0.99694127\n",
      "76 infected 1.0\n",
      "77 infected 1.0\n",
      "78 infected 1.0\n",
      "79 infected 1.0\n",
      "80 infected 0.99999857\n",
      "81 infected 1.0\n",
      "82 infected 1.0\n",
      "83 infected 1.0\n",
      "84 infected 1.0\n",
      "85 infected 1.0\n",
      "86 infected 0.9994711\n",
      "87 infected 1.0\n",
      "88 infected 0.77005345\n",
      "89 infected 1.0\n",
      "90 infected 1.0\n",
      "91 infected 0.6189566\n",
      "92 infected 0.574102\n",
      "93 uninfected 0.76415056\n",
      "94 uninfected 0.78648233\n",
      "95 uninfected 0.7798064\n",
      "96 uninfected 0.8225109\n",
      "97 uninfected 0.8186738\n",
      "98 uninfected 0.6118168\n",
      "99 uninfected 0.8344848\n",
      "100 uninfected 0.6845813\n",
      "101 uninfected 0.81186485\n",
      "102 uninfected 0.8312883\n",
      "103 infected 0.7474727\n",
      "104 uninfected 0.74297374\n",
      "105 uninfected 0.8089373\n",
      "106 uninfected 0.6627961\n",
      "107 uninfected 0.71958774\n",
      "108 uninfected 0.81963044\n",
      "109 uninfected 0.6323761\n",
      "110 uninfected 0.6499924\n",
      "111 uninfected 0.8156883\n",
      "112 uninfected 0.7078781\n",
      "113 uninfected 0.8298842\n",
      "114 uninfected 0.7759299\n",
      "115 infected 0.5586746\n",
      "116 uninfected 0.78729916\n",
      "117 uninfected 0.8108745\n",
      "118 uninfected 0.80409026\n",
      "119 uninfected 0.7163511\n",
      "120 uninfected 0.5837272\n",
      "121 uninfected 0.8244708\n",
      "122 uninfected 0.77897024\n",
      "123 uninfected 0.7357683\n",
      "124 uninfected 0.7967548\n",
      "125 uninfected 0.59269005\n",
      "126 uninfected 0.79939616\n",
      "127 uninfected 0.82027787\n",
      "128 uninfected 0.73806137\n",
      "129 uninfected 0.6388728\n",
      "130 uninfected 0.7652443\n",
      "131 uninfected 0.7280282\n",
      "132 uninfected 0.7846909\n",
      "133 infected 0.8113867\n"
     ]
    }
   ],
   "source": [
    "DIR = os.getcwd() + r'\\Dataset\\Test'\n",
    "\n",
    "wrong = 0\n",
    "right = 0\n",
    "\n",
    "cnt = 0\n",
    "\n",
    "for i in os.listdir(DIR):\n",
    "    path = os.path.join(DIR, i)\n",
    "    for j in os.listdir(path):\n",
    "        img = cv.imread(path+'/'+j)\n",
    "        img = cv.resize(img, (225, 225))\n",
    "        img = img.reshape(1, 225, 225, 3)\n",
    "        img = img/255\n",
    "\n",
    "        nodes = model.predict(img, verbose=0)\n",
    "        a = np.argmax(nodes, axis=1)\n",
    "\n",
    "        if a == 0:\n",
    "            if i == 'Parasite': right += 1\n",
    "            else: wrong += 1\n",
    "            print(cnt, 'infected', nodes[0][0])\n",
    "        else:\n",
    "            if i == 'Uninfected': right += 1\n",
    "            else: wrong += 1\n",
    "            print(cnt, 'uninfected', nodes[0][1])\n",
    "            \n",
    "        cnt += 1"
   ]
  },
  {
   "attachments": {},
   "cell_type": "markdown",
   "id": "e8ade181",
   "metadata": {},
   "source": [
    "Summary of model performance"
   ]
  },
  {
   "cell_type": "code",
   "execution_count": 121,
   "id": "2c0ac8fc-86f5-4acb-95b7-697e32cf2f61",
   "metadata": {},
   "outputs": [
    {
     "name": "stdout",
     "output_type": "stream",
     "text": [
      "Correct: 94.77611940298507% --> 127.0/134.0\n",
      "Incorrect: 5.223880597014925% --> 7.0/134.0\n"
     ]
    }
   ],
   "source": [
    "total = len(os.listdir(os.getcwd() + r'\\Dataset\\Test\\Uninfected')) + len(os.listdir(os.getcwd() + r'\\Dataset\\Test\\Parasite'))\n",
    "\n",
    "print(f'Correct: {(right/(right + wrong)) * 100}% --> {(right/(right + wrong)) * total}/{float(total)}')\n",
    "print(f'Incorrect: {(wrong/(right + wrong)) * 100}% --> {(wrong/(right + wrong)) * total}/{float(total)}')"
   ]
  },
  {
   "attachments": {},
   "cell_type": "markdown",
   "id": "1a0dc267",
   "metadata": {},
   "source": [
    "Save model"
   ]
  },
  {
   "cell_type": "code",
   "execution_count": 122,
   "id": "a52f9e82",
   "metadata": {},
   "outputs": [],
   "source": [
    "model.save('model.h5')"
   ]
  }
 ],
 "metadata": {
  "kernelspec": {
   "display_name": "base",
   "language": "python",
   "name": "python3"
  },
  "language_info": {
   "codemirror_mode": {
    "name": "ipython",
    "version": 3
   },
   "file_extension": ".py",
   "mimetype": "text/x-python",
   "name": "python",
   "nbconvert_exporter": "python",
   "pygments_lexer": "ipython3",
   "version": "3.9.12 (main, Apr  4 2022, 05:22:27) [MSC v.1916 64 bit (AMD64)]"
  },
  "vscode": {
   "interpreter": {
    "hash": "3847c88516e39c615ecf76c4af8caebdbbfe7bc469fea17b208be30d7335ee82"
   }
  }
 },
 "nbformat": 4,
 "nbformat_minor": 5
}
