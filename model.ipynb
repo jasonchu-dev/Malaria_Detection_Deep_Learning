{
 "cells": [
  {
   "cell_type": "code",
   "execution_count": 56,
   "id": "c1b4b291-de75-49b9-8b2c-7e4225cdcad6",
   "metadata": {},
   "outputs": [],
   "source": [
    "import cv2 as cv\n",
    "import random\n",
    "import numpy as np\n",
    "import tensorflow as tf\n",
    "from tensorflow.keras.applications.resnet50 import preprocess_input\n",
    "import os\n",
    "from tensorflow.keras.preprocessing.image import ImageDataGenerator\n",
    "from tensorflow.keras.layers import Dense, Conv2D, MaxPooling2D, Flatten, Activation\n",
    "from tensorflow.keras.models import Sequential"
   ]
  },
  {
   "cell_type": "code",
   "execution_count": 57,
   "id": "eb1497bf-9432-47a7-bb6e-21856586e7b4",
   "metadata": {},
   "outputs": [
    {
     "name": "stdout",
     "output_type": "stream",
     "text": [
      "Found 416 images belonging to 2 classes.\n",
      "Found 134 images belonging to 2 classes.\n"
     ]
    }
   ],
   "source": [
    "training_datagen = ImageDataGenerator(rescale=1./255)\n",
    "test_datagen = ImageDataGenerator(rescale=1./255)\n",
    "\n",
    "training_set = training_datagen.flow_from_directory('Dataset/Train', target_size=(225, 225), batch_size=32, class_mode='categorical')\n",
    "test_set = training_datagen.flow_from_directory('Dataset/Test', target_size=(225, 225), batch_size=32, class_mode='categorical')"
   ]
  },
  {
   "cell_type": "code",
   "execution_count": 62,
   "id": "9a285923-a521-4711-943b-c00982520aff",
   "metadata": {},
   "outputs": [
    {
     "name": "stdout",
     "output_type": "stream",
     "text": [
      "Epoch 1/15\n",
      "13/13 [==============================] - 2s 83ms/step - loss: 0.7082 - accuracy: 0.4736 - val_loss: 0.6697 - val_accuracy: 0.6791\n",
      "Epoch 2/15\n",
      "13/13 [==============================] - 1s 65ms/step - loss: 0.6546 - accuracy: 0.5745 - val_loss: 0.7212 - val_accuracy: 0.3209\n",
      "Epoch 3/15\n",
      "13/13 [==============================] - 1s 65ms/step - loss: 0.5578 - accuracy: 0.7332 - val_loss: 0.6903 - val_accuracy: 0.5746\n",
      "Epoch 4/15\n",
      "13/13 [==============================] - 1s 65ms/step - loss: 0.3574 - accuracy: 0.8582 - val_loss: 0.4840 - val_accuracy: 0.7313\n",
      "Epoch 5/15\n",
      "13/13 [==============================] - 1s 65ms/step - loss: 0.2289 - accuracy: 0.9207 - val_loss: 0.2894 - val_accuracy: 0.8731\n",
      "Epoch 6/15\n",
      "13/13 [==============================] - 1s 65ms/step - loss: 0.1484 - accuracy: 0.9567 - val_loss: 0.2642 - val_accuracy: 0.8881\n",
      "Epoch 7/15\n",
      "13/13 [==============================] - 1s 65ms/step - loss: 0.1173 - accuracy: 0.9880 - val_loss: 1.3904 - val_accuracy: 0.6716\n",
      "Epoch 8/15\n",
      "13/13 [==============================] - 1s 65ms/step - loss: 0.4004 - accuracy: 0.8726 - val_loss: 0.5116 - val_accuracy: 0.6642\n",
      "Epoch 9/15\n",
      "13/13 [==============================] - 1s 65ms/step - loss: 0.2580 - accuracy: 0.9111 - val_loss: 0.4720 - val_accuracy: 0.7612\n",
      "Epoch 10/15\n",
      "13/13 [==============================] - 1s 64ms/step - loss: 0.1916 - accuracy: 0.9351 - val_loss: 0.2874 - val_accuracy: 0.8806\n",
      "Epoch 11/15\n",
      "13/13 [==============================] - 1s 66ms/step - loss: 0.1015 - accuracy: 0.9712 - val_loss: 0.1472 - val_accuracy: 0.9478\n",
      "Epoch 12/15\n",
      "13/13 [==============================] - 1s 65ms/step - loss: 0.0710 - accuracy: 0.9856 - val_loss: 0.1826 - val_accuracy: 0.9478\n",
      "Epoch 13/15\n",
      "13/13 [==============================] - 1s 64ms/step - loss: 0.0880 - accuracy: 0.9784 - val_loss: 0.2979 - val_accuracy: 0.8881\n",
      "Epoch 14/15\n",
      "13/13 [==============================] - 1s 70ms/step - loss: 0.0594 - accuracy: 0.9856 - val_loss: 0.2999 - val_accuracy: 0.8955\n",
      "Epoch 15/15\n",
      "13/13 [==============================] - 1s 74ms/step - loss: 0.0490 - accuracy: 0.9880 - val_loss: 0.3288 - val_accuracy: 0.9030\n"
     ]
    },
    {
     "data": {
      "text/plain": [
       "<keras.callbacks.History at 0x1e5b0d26b80>"
      ]
     },
     "execution_count": 62,
     "metadata": {},
     "output_type": "execute_result"
    }
   ],
   "source": [
    "model = Sequential()\n",
    "\n",
    "model.add(Conv2D(16, (3, 3), input_shape=(225, 225, 3), activation='relu', padding='same'))\n",
    "model.add(MaxPooling2D(pool_size=(2, 2)))\n",
    "\n",
    "model.add(Conv2D(32, (3, 3), padding='same', activation='relu'))\n",
    "model.add(MaxPooling2D(pool_size=(2, 2)))\n",
    "\n",
    "model.add(Conv2D(64, (3, 3), padding='same', activation='relu'))\n",
    "model.add(MaxPooling2D(pool_size=(2, 2)))\n",
    "\n",
    "model.add(Conv2D(128, (3, 3), padding='same', activation='relu'))\n",
    "model.add(MaxPooling2D(pool_size=(2, 2)))\n",
    "\n",
    "model.add(Conv2D(256, (3, 3), padding='same', activation='relu'))\n",
    "model.add(MaxPooling2D(pool_size=(2, 2)))\n",
    "\n",
    "# model.add(Conv2D(512, (3, 3), padding='same', activation='relu'))\n",
    "# model.add(MaxPooling2D(pool_size=(2, 2)))\n",
    "\n",
    "# model.add(Conv2D(164, (3, 3), padding='same', activation='relu'))\n",
    "# model.add(MaxPooling2D(pool_size=(2, 2)))\n",
    "\n",
    "# model.add(Conv2D(328, (3, 3), padding='same', activation='relu'))\n",
    "# model.add(MaxPooling2D(pool_size=(2, 2)))\n",
    "\n",
    "model.add(Flatten())\n",
    "model.add(Dense(500, activation='relu'))\n",
    "model.add(Dense(2, activation='softmax'))\n",
    "\n",
    "model.compile(loss='categorical_crossentropy', optimizer='adam', metrics=['accuracy'])\n",
    "model.fit(training_set, validation_data=test_set, epochs=15, steps_per_epoch=len(training_set), validation_steps=len(test_set))"
   ]
  },
  {
   "cell_type": "code",
   "execution_count": 59,
   "id": "155b3eb4-5ead-411d-a94f-42db99c4cef1",
   "metadata": {},
   "outputs": [
    {
     "name": "stdout",
     "output_type": "stream",
     "text": [
      "Model: \"sequential_6\"\n",
      "_________________________________________________________________\n",
      " Layer (type)                Output Shape              Param #   \n",
      "=================================================================\n",
      " conv2d_36 (Conv2D)          (None, 225, 225, 16)      448       \n",
      "                                                                 \n",
      " max_pooling2d_36 (MaxPoolin  (None, 112, 112, 16)     0         \n",
      " g2D)                                                            \n",
      "                                                                 \n",
      " conv2d_37 (Conv2D)          (None, 112, 112, 32)      4640      \n",
      "                                                                 \n",
      " max_pooling2d_37 (MaxPoolin  (None, 56, 56, 32)       0         \n",
      " g2D)                                                            \n",
      "                                                                 \n",
      " conv2d_38 (Conv2D)          (None, 56, 56, 64)        18496     \n",
      "                                                                 \n",
      " max_pooling2d_38 (MaxPoolin  (None, 28, 28, 64)       0         \n",
      " g2D)                                                            \n",
      "                                                                 \n",
      " conv2d_39 (Conv2D)          (None, 28, 28, 128)       73856     \n",
      "                                                                 \n",
      " max_pooling2d_39 (MaxPoolin  (None, 14, 14, 128)      0         \n",
      " g2D)                                                            \n",
      "                                                                 \n",
      " conv2d_40 (Conv2D)          (None, 14, 14, 256)       295168    \n",
      "                                                                 \n",
      " max_pooling2d_40 (MaxPoolin  (None, 7, 7, 256)        0         \n",
      " g2D)                                                            \n",
      "                                                                 \n",
      " conv2d_41 (Conv2D)          (None, 7, 7, 512)         1180160   \n",
      "                                                                 \n",
      " max_pooling2d_41 (MaxPoolin  (None, 3, 3, 512)        0         \n",
      " g2D)                                                            \n",
      "                                                                 \n",
      " flatten_6 (Flatten)         (None, 4608)              0         \n",
      "                                                                 \n",
      " dense_12 (Dense)            (None, 500)               2304500   \n",
      "                                                                 \n",
      " dense_13 (Dense)            (None, 2)                 1002      \n",
      "                                                                 \n",
      "=================================================================\n",
      "Total params: 3,878,270\n",
      "Trainable params: 3,878,270\n",
      "Non-trainable params: 0\n",
      "_________________________________________________________________\n"
     ]
    }
   ],
   "source": [
    "model.summary()"
   ]
  },
  {
   "cell_type": "code",
   "execution_count": 63,
   "id": "bf1dbff8-2610-4bf9-a2c0-b237470fc732",
   "metadata": {},
   "outputs": [
    {
     "name": "stdout",
     "output_type": "stream",
     "text": [
      "0 infected\n",
      "1 infected\n",
      "2 infected\n",
      "3 infected\n",
      "4 infected\n",
      "5 uninfected\n",
      "6 infected\n",
      "7 infected\n",
      "8 uninfected\n",
      "9 uninfected\n",
      "10 infected\n",
      "11 infected\n",
      "12 uninfected\n",
      "13 uninfected\n",
      "14 infected\n",
      "15 uninfected\n",
      "16 uninfected\n",
      "17 infected\n",
      "18 infected\n",
      "19 infected\n",
      "20 infected\n",
      "21 infected\n",
      "22 uninfected\n",
      "23 infected\n",
      "24 infected\n",
      "25 infected\n",
      "26 infected\n",
      "27 infected\n",
      "28 infected\n",
      "29 infected\n",
      "30 infected\n",
      "31 infected\n",
      "32 infected\n",
      "33 uninfected\n",
      "34 uninfected\n",
      "35 uninfected\n",
      "36 uninfected\n",
      "37 uninfected\n",
      "38 uninfected\n",
      "39 infected\n",
      "40 infected\n",
      "41 infected\n",
      "42 infected\n",
      "43 infected\n",
      "44 infected\n",
      "45 infected\n",
      "46 uninfected\n",
      "47 infected\n",
      "48 infected\n",
      "49 infected\n",
      "50 infected\n",
      "51 uninfected\n",
      "52 infected\n",
      "53 infected\n",
      "54 infected\n",
      "55 infected\n",
      "56 infected\n",
      "57 infected\n",
      "58 infected\n",
      "59 infected\n",
      "60 infected\n",
      "61 infected\n",
      "62 infected\n",
      "63 uninfected\n",
      "64 infected\n",
      "65 infected\n",
      "66 uninfected\n",
      "67 infected\n",
      "68 infected\n",
      "69 infected\n",
      "70 infected\n",
      "71 infected\n",
      "72 infected\n",
      "73 infected\n",
      "74 infected\n",
      "75 uninfected\n",
      "76 infected\n",
      "77 infected\n",
      "78 infected\n",
      "79 infected\n",
      "80 uninfected\n",
      "81 infected\n",
      "82 infected\n",
      "83 infected\n",
      "84 infected\n",
      "85 infected\n",
      "86 uninfected\n",
      "87 infected\n",
      "88 uninfected\n",
      "89 infected\n",
      "90 infected\n",
      "91 uninfected\n",
      "92 uninfected\n",
      "93 uninfected\n",
      "94 uninfected\n",
      "95 uninfected\n",
      "96 uninfected\n",
      "97 uninfected\n",
      "98 uninfected\n",
      "99 uninfected\n",
      "100 uninfected\n",
      "101 uninfected\n",
      "102 uninfected\n",
      "103 uninfected\n",
      "104 uninfected\n",
      "105 uninfected\n",
      "106 uninfected\n",
      "107 uninfected\n",
      "108 uninfected\n",
      "109 uninfected\n",
      "110 uninfected\n",
      "111 uninfected\n",
      "112 uninfected\n",
      "113 uninfected\n",
      "114 uninfected\n",
      "115 uninfected\n",
      "116 uninfected\n",
      "117 uninfected\n",
      "118 uninfected\n",
      "119 uninfected\n",
      "120 uninfected\n",
      "121 uninfected\n",
      "122 uninfected\n",
      "123 uninfected\n",
      "124 uninfected\n",
      "125 uninfected\n",
      "126 uninfected\n",
      "127 uninfected\n",
      "128 uninfected\n",
      "129 uninfected\n",
      "130 uninfected\n",
      "131 uninfected\n",
      "132 uninfected\n",
      "133 uninfected\n"
     ]
    }
   ],
   "source": [
    "DIR = 'C:/Users/Whata/source/repos/Malaria_Detection_Deep_Learning/Dataset/Test'\n",
    "\n",
    "wrong = 0\n",
    "right = 0\n",
    "\n",
    "b = []\n",
    "c = 0\n",
    "\n",
    "for i in os.listdir(DIR):\n",
    "    path = os.path.join(DIR, i)\n",
    "    for j in os.listdir(path):\n",
    "        img = cv.imread(path+'/'+j)\n",
    "        img = cv.resize(img, (225, 225))\n",
    "        img = img.reshape(1, 225, 225, 3)\n",
    "        img = img/255\n",
    "        a = np.argmax(model.predict(img, verbose=0), axis=1)\n",
    "        if a == 0:\n",
    "            if i == 'Parasite': right += 1\n",
    "            else: wrong += 1\n",
    "            print(c, 'infected')\n",
    "            b.append('infected')\n",
    "        else:\n",
    "            if i == 'Uninfected': right += 1\n",
    "            else: wrong += 1\n",
    "            print(c, 'uninfected')\n",
    "            b.append('uninfected')\n",
    "        c += 1"
   ]
  },
  {
   "cell_type": "code",
   "execution_count": 64,
   "id": "2c0ac8fc-86f5-4acb-95b7-697e32cf2f61",
   "metadata": {},
   "outputs": [
    {
     "name": "stdout",
     "output_type": "stream",
     "text": [
      "Correct: 83.5820895522388% --> 112.0/134.0\n",
      "Incorrect: 16.417910447761194% --> 22.0/134.0\n"
     ]
    }
   ],
   "source": [
    "total = len(os.listdir('C:/Users/Whata/source/repos/Malaria_Detection_Deep_Learning/Dataset/Test/Uninfected')) + len(os.listdir('C:/Users/Whata/source/repos/Malaria_Detection_Deep_Learning/Dataset/Test/Parasite'))\n",
    "print(f'Correct: {(right/(right + wrong)) * 100}% --> {(right/(right + wrong)) * total}/{float(total)}')\n",
    "print(f'Incorrect: {(wrong/(right + wrong)) * 100}% --> {(wrong/(right + wrong)) * total}/{float(total)}')"
   ]
  },
  {
   "cell_type": "code",
   "execution_count": 66,
   "id": "a52f9e82",
   "metadata": {},
   "outputs": [
    {
     "ename": "",
     "evalue": "",
     "output_type": "error",
     "traceback": [
      "\u001b[1;31mThe Kernel crashed while executing code in the the current cell or a previous cell. Please review the code in the cell(s) to identify a possible cause of the failure. Click <a href='https://aka.ms/vscodeJupyterKernelCrash'>here</a> for more info. View Jupyter <a href='command:jupyter.viewOutput'>log</a> for further details."
     ]
    }
   ],
   "source": [
    "model.save('model.h5')"
   ]
  }
 ],
 "metadata": {
  "kernelspec": {
   "display_name": "base",
   "language": "python",
   "name": "python3"
  },
  "language_info": {
   "codemirror_mode": {
    "name": "ipython",
    "version": 3
   },
   "file_extension": ".py",
   "mimetype": "text/x-python",
   "name": "python",
   "nbconvert_exporter": "python",
   "pygments_lexer": "ipython3",
   "version": "3.9.12 (main, Apr  4 2022, 05:22:27) [MSC v.1916 64 bit (AMD64)]"
  },
  "vscode": {
   "interpreter": {
    "hash": "3847c88516e39c615ecf76c4af8caebdbbfe7bc469fea17b208be30d7335ee82"
   }
  }
 },
 "nbformat": 4,
 "nbformat_minor": 5
}
